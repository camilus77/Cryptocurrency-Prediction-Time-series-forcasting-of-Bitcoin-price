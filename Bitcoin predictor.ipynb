{
 "cells": [
  {
   "cell_type": "markdown",
   "id": "df5eade0",
   "metadata": {
    "id": "df5eade0"
   },
   "source": [
    "# Cryptocurrency Prediction: Time series forcasting of Bitcoin price\n",
    "\n",
    "### By Ubong Ben"
   ]
  },
  {
   "cell_type": "markdown",
   "id": "45e9ea6f",
   "metadata": {
    "id": "45e9ea6f"
   },
   "source": [
    "![](https://images.unsplash.com/photo-1621501011941-c8ee93618c9a?ixlib=rb-4.0.3&ixid=M3wxMjA3fDB8MHxwaG90by1wYWdlfHx8fGVufDB8fHx8fA%3D%3D&auto=format&fit=crop&w=872&q=80)"
   ]
  },
  {
   "cell_type": "markdown",
   "id": "ddfcc20e",
   "metadata": {
    "id": "ddfcc20e"
   },
   "source": [
    "<iframe width=\"1024\" height=\"576\" src=\"https://www.youtube.com/embed/p-QY7JNGD60\" title=\"YouTube video player\" frameborder=\"0\" allow=\"accelerometer; autoplay; clipboard-write; encrypted-media; gyroscope; picture-in-picture\" allowfullscreen></iframe>"
   ]
  },
  {
   "cell_type": "markdown",
   "id": "b06be1be",
   "metadata": {
    "id": "b06be1be"
   },
   "source": []
  },
  {
   "cell_type": "markdown",
   "id": "fb71f0b5",
   "metadata": {
    "id": "fb71f0b5"
   },
   "source": [
    "# 2. Importing Library"
   ]
  },
  {
   "cell_type": "code",
   "execution_count": 1,
   "id": "9f999cd4",
   "metadata": {
    "id": "9f999cd4"
   },
   "outputs": [],
   "source": [
    "#!pip install tensorflow"
   ]
  },
  {
   "cell_type": "code",
   "execution_count": 2,
   "id": "45a7b77f",
   "metadata": {
    "id": "45a7b77f"
   },
   "outputs": [
    {
     "data": {
      "text/plain": [
       "'# First we will import the necessary Library\\n\\nimport os\\nimport pandas as pd\\nimport numpy as np\\nimport math\\nimport datetime as dt\\nimport matplotlib.pyplot as plt\\n\\n# For Evalution we will use these library\\n\\nfrom sklearn.metrics import mean_squared_error, mean_absolute_error, explained_variance_score, r2_score\\nfrom sklearn.metrics import mean_poisson_deviance, mean_gamma_deviance, accuracy_score\\nfrom sklearn.preprocessing import MinMaxScaler\\n\\nimport tensorflow as tf\\nfrom tensorflow.keras.models import Sequential\\nfrom tensorflow.keras.layers import Dense, Dropout\\nfrom tensorflow.keras.layers import LSTM\\n\\nimport matplotlib.pyplot as plt\\nfrom itertools import cycle\\nimport plotly.graph_objects as go\\nimport plotly.express as px\\nfrom plotly.subplots import make_subplots'"
      ]
     },
     "execution_count": 2,
     "metadata": {},
     "output_type": "execute_result"
    }
   ],
   "source": [
    "'''# First we will import the necessary Library\n",
    "\n",
    "import os\n",
    "import pandas as pd\n",
    "import numpy as np\n",
    "import math\n",
    "import datetime as dt\n",
    "import matplotlib.pyplot as plt\n",
    "\n",
    "# For Evalution we will use these library\n",
    "\n",
    "from sklearn.metrics import mean_squared_error, mean_absolute_error, explained_variance_score, r2_score\n",
    "from sklearn.metrics import mean_poisson_deviance, mean_gamma_deviance, accuracy_score\n",
    "from sklearn.preprocessing import MinMaxScaler\n",
    "\n",
    "import tensorflow as tf\n",
    "from tensorflow.keras.models import Sequential\n",
    "from tensorflow.keras.layers import Dense, Dropout\n",
    "from tensorflow.keras.layers import LSTM\n",
    "\n",
    "import matplotlib.pyplot as plt\n",
    "from itertools import cycle\n",
    "import plotly.graph_objects as go\n",
    "import plotly.express as px\n",
    "from plotly.subplots import make_subplots'''"
   ]
  },
  {
   "cell_type": "markdown",
   "id": "705da077",
   "metadata": {
    "id": "705da077"
   },
   "source": [
    "# Preliminary Data Wrangling"
   ]
  },
  {
   "cell_type": "markdown",
   "id": "f461768d",
   "metadata": {
    "id": "f461768d"
   },
   "source": [
    "#  [We can use this link to download bitcoin dataset from yahoo finance](https://finance.yahoo.com/quote/BTC-USD/history?p=BTC-USD)"
   ]
  },
  {
   "cell_type": "code",
   "execution_count": 3,
   "id": "63a7350b",
   "metadata": {
    "colab": {
     "base_uri": "https://localhost:8080/",
     "height": 224
    },
    "id": "63a7350b",
    "outputId": "205ecaae-c2d1-4dcc-f1be-a119f722994e"
   },
   "outputs": [
    {
     "ename": "ModuleNotFoundError",
     "evalue": "No module named 'google.colab'",
     "output_type": "error",
     "traceback": [
      "\u001b[1;31m---------------------------------------------------------------------------\u001b[0m",
      "\u001b[1;31mModuleNotFoundError\u001b[0m                       Traceback (most recent call last)",
      "Input \u001b[1;32mIn [3]\u001b[0m, in \u001b[0;36m<cell line: 1>\u001b[1;34m()\u001b[0m\n\u001b[1;32m----> 1\u001b[0m \u001b[38;5;28;01mfrom\u001b[39;00m \u001b[38;5;21;01mgoogle\u001b[39;00m\u001b[38;5;21;01m.\u001b[39;00m\u001b[38;5;21;01mcolab\u001b[39;00m \u001b[38;5;28;01mimport\u001b[39;00m drive\n\u001b[0;32m      2\u001b[0m drive\u001b[38;5;241m.\u001b[39mmount(\u001b[38;5;124m'\u001b[39m\u001b[38;5;124m/content/drive\u001b[39m\u001b[38;5;124m'\u001b[39m)\n\u001b[0;32m      4\u001b[0m file_path \u001b[38;5;241m=\u001b[39m \u001b[38;5;124m\"\u001b[39m\u001b[38;5;124m/content/drive/My Drive/Colab Notebooks/Bitcoin Predictor/BTC-USD.csv\u001b[39m\u001b[38;5;124m\"\u001b[39m\n",
      "\u001b[1;31mModuleNotFoundError\u001b[0m: No module named 'google.colab'"
     ]
    }
   ],
   "source": [
    "from google.colab import drive\n",
    "drive.mount('/content/drive')\n",
    "\n",
    "file_path = \"/content/drive/My Drive/Colab Notebooks/Bitcoin Predictor/BTC-USD.csv\"\n",
    "\n",
    "# Load our dataset\n",
    "maindf=pd.read_csv(file_path)\n",
    "maindf.head()"
   ]
  },
  {
   "cell_type": "code",
   "execution_count": null,
   "id": "705717bc",
   "metadata": {
    "id": "705717bc"
   },
   "outputs": [],
   "source": []
  },
  {
   "cell_type": "code",
   "execution_count": null,
   "id": "e895ee1e",
   "metadata": {
    "colab": {
     "base_uri": "https://localhost:8080/"
    },
    "id": "e895ee1e",
    "outputId": "d1f09ef2-7b92-448c-e6a8-cd0b7ee124ed"
   },
   "outputs": [],
   "source": [
    "#get total number of days in the dataset for analysis\n",
    "print(maindf.shape[0])\n"
   ]
  },
  {
   "cell_type": "markdown",
   "id": "52f66946",
   "metadata": {
    "id": "52f66946"
   },
   "source": [
    "Okay, Lets check the bottom to see if the dataset is consistent"
   ]
  },
  {
   "cell_type": "code",
   "execution_count": null,
   "id": "d602502c",
   "metadata": {
    "colab": {
     "base_uri": "https://localhost:8080/",
     "height": 206
    },
    "id": "d602502c",
    "outputId": "26ec0e6f-7dbd-44fc-9a7a-e581bc58d526"
   },
   "outputs": [],
   "source": [
    "maindf.tail()"
   ]
  },
  {
   "cell_type": "markdown",
   "id": "1fab6222",
   "metadata": {
    "id": "1fab6222"
   },
   "source": [
    "Not looking bad!!!!!!\n"
   ]
  },
  {
   "cell_type": "raw",
   "id": "f5251635",
   "metadata": {
    "id": "f5251635"
   },
   "source": [
    "Now are they nulls? what are the datatypes of the columns?"
   ]
  },
  {
   "cell_type": "code",
   "execution_count": null,
   "id": "8858748f",
   "metadata": {
    "colab": {
     "base_uri": "https://localhost:8080/"
    },
    "id": "8858748f",
    "outputId": "aff282d4-8f7f-4494-cbd6-d66747957753"
   },
   "outputs": [],
   "source": [
    "maindf.info()"
   ]
  },
  {
   "cell_type": "raw",
   "id": "027b3337",
   "metadata": {
    "id": "027b3337"
   },
   "source": [
    "What about some statistical description of our dataset?"
   ]
  },
  {
   "cell_type": "code",
   "execution_count": null,
   "id": "842f98a1",
   "metadata": {
    "colab": {
     "base_uri": "https://localhost:8080/",
     "height": 300
    },
    "id": "842f98a1",
    "outputId": "a24577ee-0fe6-4c22-db42-1207476894ab"
   },
   "outputs": [],
   "source": [
    "maindf.describe()"
   ]
  },
  {
   "cell_type": "markdown",
   "id": "b2e316c4",
   "metadata": {
    "id": "b2e316c4"
   },
   "source": [
    "# Exploratory Data Analysis"
   ]
  },
  {
   "cell_type": "markdown",
   "id": "2b6fe5bf",
   "metadata": {
    "id": "2b6fe5bf"
   },
   "source": [
    "We know the number of days that we are working with. However, it would be helpful if we knew the actual dates itself. What is our starting and ending date?"
   ]
  },
  {
   "cell_type": "code",
   "execution_count": null,
   "id": "a3f6d0bb",
   "metadata": {
    "colab": {
     "base_uri": "https://localhost:8080/"
    },
    "id": "a3f6d0bb",
    "outputId": "e4eccdcc-f7b8-4943-b522-fd025d616f0a"
   },
   "outputs": [],
   "source": [
    "\n",
    "print('The dataset starts at:',maindf.iloc[0][0])\n",
    "print('The dataset ends at: ',maindf.iloc[-1][0])\n"
   ]
  },
  {
   "cell_type": "markdown",
   "id": "4d66f06c",
   "metadata": {
    "id": "4d66f06c"
   },
   "source": [
    "### ANNUAL EXPLORATORY ANALYSIS OF OUR DATASET"
   ]
  },
  {
   "cell_type": "markdown",
   "id": "g9Cjzy_wPbry",
   "metadata": {
    "id": "g9Cjzy_wPbry"
   },
   "source": [
    "![](https://www.questionpro.com/blog/wp-content/uploads/2022/05/exploratory-data-analysis.jpg)"
   ]
  },
  {
   "cell_type": "markdown",
   "id": "470c1f2a",
   "metadata": {
    "id": "470c1f2a"
   },
   "source": [
    "#### YEAR 2014"
   ]
  },
  {
   "cell_type": "code",
   "execution_count": null,
   "id": "151fece2",
   "metadata": {
    "colab": {
     "base_uri": "https://localhost:8080/",
     "height": 424
    },
    "id": "151fece2",
    "outputId": "99b2713a-a434-4ef9-b00e-16e2d087899b"
   },
   "outputs": [],
   "source": [
    "#How does this year look like as a whole?\n",
    "maindf['Date'] = pd.to_datetime(maindf['Date'], format='%Y-%m-%d')\n",
    "year_2014 = maindf.loc[(maindf['Date'] >= '2014-09-17') & (maindf['Date'] <= '2014-12-31')]\n",
    "year_2014 .drop(year_2014 [['Adj Close','Volume']],axis=1)"
   ]
  },
  {
   "cell_type": "code",
   "execution_count": null,
   "id": "dce5f88f",
   "metadata": {
    "colab": {
     "base_uri": "https://localhost:8080/",
     "height": 457
    },
    "id": "dce5f88f",
    "outputId": "be54dc1b-68d2-4c06-daa6-545d44e87f1b"
   },
   "outputs": [],
   "source": [
    "#how is the price distributed on the basis of month?\n",
    "monthly= year_2014.groupby(year_2014['Date'].dt.strftime('%B'))[['Open','Close']].mean()\n",
    "month_name = ['January', 'February', 'March', 'April', 'May', 'June', 'July', 'August',\n",
    "             'September', 'October', 'November', 'December']\n",
    "monthly = monthly.reindex(month_name, axis=0)\n",
    "monthly"
   ]
  },
  {
   "cell_type": "markdown",
   "id": "577eee34",
   "metadata": {
    "id": "577eee34"
   },
   "source": []
  },
  {
   "cell_type": "code",
   "execution_count": null,
   "id": "a14b3a12",
   "metadata": {
    "colab": {
     "base_uri": "https://localhost:8080/",
     "height": 542
    },
    "id": "a14b3a12",
    "outputId": "b025e2f5-3fb8-4046-9ca3-d716677d80d1"
   },
   "outputs": [],
   "source": [
    "fig = go.Figure()\n",
    "\n",
    "fig.add_trace(go.Bar(\n",
    "    x=monthly .index,\n",
    "    y=monthly ['Open'],\n",
    "    name='Stock Open Price'\n",
    "))\n",
    "fig.add_trace(go.Bar(\n",
    "    x=monthly .index,\n",
    "    y=monthly ['Close'],\n",
    "    name='Stock Close Price',\n",
    "))\n",
    "\n",
    "fig.update_layout(barmode='group', xaxis_tickangle=-45,\n",
    "                  title='2014 Monthly comparative analysis')\n",
    "fig.show()"
   ]
  },
  {
   "cell_type": "markdown",
   "id": "6767d3d5",
   "metadata": {
    "id": "6767d3d5"
   },
   "source": [
    "**What about the opening and closing prices for months in the year**"
   ]
  },
  {
   "cell_type": "code",
   "execution_count": null,
   "id": "cad5fd8c",
   "metadata": {
    "colab": {
     "base_uri": "https://localhost:8080/",
     "height": 542
    },
    "id": "cad5fd8c",
    "outputId": "f4b92cd8-cd22-4847-c473-4f0a7d855b6a"
   },
   "outputs": [],
   "source": [
    "year_2014.groupby(year_2014['Date'].dt.strftime('%B'))['Low'].min()\n",
    "monthvise_high = year_2014.groupby(maindf['Date'].dt.strftime('%B'))['High'].max()\n",
    "monthvise_high = monthvise_high.reindex(month_name, axis=0)\n",
    "\n",
    "monthvise_low = year_2014.groupby(year_2014['Date'].dt.strftime('%B'))['Low'].min()\n",
    "monthvise_low = monthvise_low.reindex(month_name, axis=0)\n",
    "\n",
    "fig = go.Figure()\n",
    "fig.add_trace(go.Bar(\n",
    "    x=monthvise_high.index,\n",
    "    y=monthvise_high,\n",
    "    name='Stock high Price',\n",
    "))\n",
    "fig.add_trace(go.Bar(\n",
    "    x=monthvise_low.index,\n",
    "    y=monthvise_low,\n",
    "    name='Stock low Price',\n",
    "))\n",
    "\n",
    "fig.update_layout(barmode='group',\n",
    "                  title='High and Low Price 2014 (Monthly)')\n",
    "fig.show()"
   ]
  },
  {
   "cell_type": "markdown",
   "id": "3d16dd2d",
   "metadata": {
    "id": "3d16dd2d"
   },
   "source": [
    "**Now lets get a more combined signature**"
   ]
  },
  {
   "cell_type": "code",
   "execution_count": null,
   "id": "1e300bb5",
   "metadata": {
    "colab": {
     "base_uri": "https://localhost:8080/",
     "height": 542
    },
    "id": "1e300bb5",
    "outputId": "e0450edf-de2f-4443-9618-435881f2b2af"
   },
   "outputs": [],
   "source": [
    "names = cycle(['Stock Open Price','Stock Close Price','Stock High Price','Stock Low Price'])\n",
    "\n",
    "fig = px.line(year_2014, x=year_2014.Date, y=[year_2014['Open'], year_2014['Close'],\n",
    "                                          year_2014['High'], year_2014['Low']],\n",
    "             labels={'Date': 'Date','value':'Stock value'})\n",
    "fig.update_layout(title_text='Stock analysis chart', font_size=15, font_color='black',legend_title_text='Stock Parameters')\n",
    "fig.for_each_trace(lambda t:  t.update(name = next(names)))\n",
    "fig.update_xaxes(showgrid=False)\n",
    "fig.update_yaxes(showgrid=False)\n",
    "\n",
    "fig.show()"
   ]
  },
  {
   "cell_type": "raw",
   "id": "c03facd1",
   "metadata": {
    "id": "c03facd1"
   },
   "source": [
    "<<<Since the first nine months do not have data, the **NaN** as well as the early gaps in the plots obtained for those months are understood>>>>"
   ]
  },
  {
   "cell_type": "code",
   "execution_count": null,
   "id": "2f760aba",
   "metadata": {
    "id": "2f760aba"
   },
   "outputs": [],
   "source": []
  },
  {
   "cell_type": "markdown",
   "id": "6bf995b9",
   "metadata": {
    "id": "6bf995b9"
   },
   "source": [
    "#### YEAR 2015"
   ]
  },
  {
   "cell_type": "code",
   "execution_count": null,
   "id": "4bb50671",
   "metadata": {
    "colab": {
     "base_uri": "https://localhost:8080/",
     "height": 424
    },
    "id": "4bb50671",
    "outputId": "732f3bdb-128a-4139-b809-675194ca7d46"
   },
   "outputs": [],
   "source": [
    "#How does this year look like as a whole?\n",
    "maindf['Date'] = pd.to_datetime(maindf['Date'], format='%Y-%m-%d')\n",
    "year_2015 = maindf.loc[(maindf['Date'] >= '2015-01-01') & (maindf['Date'] <= '2015-12-31')]\n",
    "year_2015.drop(year_2015[['Adj Close','Volume']],axis=1)"
   ]
  },
  {
   "cell_type": "code",
   "execution_count": null,
   "id": "0667540e",
   "metadata": {
    "colab": {
     "base_uri": "https://localhost:8080/",
     "height": 457
    },
    "id": "0667540e",
    "outputId": "e0e85a56-5eef-4d4e-c5c9-1d7973396dfe"
   },
   "outputs": [],
   "source": [
    "#how is the price distributed on the basis of month?\n",
    "monthly= year_2015.groupby(year_2015['Date'].dt.strftime('%B'))[['Open','Close']].mean()\n",
    "month_name = ['January', 'February', 'March', 'April', 'May', 'June', 'July', 'August',\n",
    "             'September', 'October', 'November', 'December']\n",
    "monthly = monthly.reindex(month_name, axis=0)\n",
    "monthly"
   ]
  },
  {
   "cell_type": "code",
   "execution_count": null,
   "id": "976bdc65",
   "metadata": {
    "id": "976bdc65"
   },
   "outputs": [],
   "source": []
  },
  {
   "cell_type": "code",
   "execution_count": null,
   "id": "29a03d91",
   "metadata": {
    "colab": {
     "base_uri": "https://localhost:8080/",
     "height": 542
    },
    "id": "29a03d91",
    "outputId": "70d5f8c3-7cc2-4f57-9219-2cbffa6c9956"
   },
   "outputs": [],
   "source": [
    "fig = go.Figure()\n",
    "\n",
    "fig.add_trace(go.Bar(\n",
    "    x=monthly .index,\n",
    "    y=monthly ['Open'],\n",
    "    name='Stock Open Price'\n",
    "))\n",
    "fig.add_trace(go.Bar(\n",
    "    x=monthly .index,\n",
    "    y=monthly ['Close'],\n",
    "    name='Stock Close Price',\n",
    "))\n",
    "\n",
    "fig.update_layout(barmode='group', xaxis_tickangle=-45,\n",
    "                  title='2015 Monthly comparative analysis')\n",
    "fig.show()"
   ]
  },
  {
   "cell_type": "markdown",
   "id": "680cd38e",
   "metadata": {
    "id": "680cd38e"
   },
   "source": [
    "**What about the opening and closing prices for months in the year**"
   ]
  },
  {
   "cell_type": "code",
   "execution_count": null,
   "id": "3393cd70",
   "metadata": {
    "colab": {
     "base_uri": "https://localhost:8080/",
     "height": 542
    },
    "id": "3393cd70",
    "outputId": "f432043b-e830-43c8-c706-c299aeac615f"
   },
   "outputs": [],
   "source": [
    "year_2015.groupby(year_2015['Date'].dt.strftime('%B'))['Low'].min()\n",
    "monthvise_high = year_2015.groupby(maindf['Date'].dt.strftime('%B'))['High'].max()\n",
    "monthvise_high = monthvise_high.reindex(month_name, axis=0)\n",
    "\n",
    "monthvise_low = year_2015.groupby(year_2015['Date'].dt.strftime('%B'))['Low'].min()\n",
    "monthvise_low = monthvise_low.reindex(month_name, axis=0)\n",
    "\n",
    "fig = go.Figure()\n",
    "fig.add_trace(go.Bar(\n",
    "    x=monthvise_high.index,\n",
    "    y=monthvise_high,\n",
    "    name='Stock high Price',\n",
    "))\n",
    "fig.add_trace(go.Bar(\n",
    "    x=monthvise_low.index,\n",
    "    y=monthvise_low,\n",
    "    name='Stock low Price',\n",
    "))\n",
    "\n",
    "fig.update_layout(barmode='group',\n",
    "                  title='High and Low Price 2015 (Monthly)')\n",
    "fig.show()"
   ]
  },
  {
   "cell_type": "markdown",
   "id": "e97df6b4",
   "metadata": {
    "id": "e97df6b4"
   },
   "source": [
    "**Now lets get a more combined signature**"
   ]
  },
  {
   "cell_type": "code",
   "execution_count": null,
   "id": "b0eca7f1",
   "metadata": {
    "colab": {
     "base_uri": "https://localhost:8080/",
     "height": 542
    },
    "id": "b0eca7f1",
    "outputId": "16c41082-25e9-4de3-90b2-5fc0e8696bb1"
   },
   "outputs": [],
   "source": [
    "names = cycle(['Stock Open Price','Stock Close Price','Stock High Price','Stock Low Price'])\n",
    "\n",
    "fig = px.line(year_2015, x=year_2015.Date, y=[year_2015['Open'], year_2015['Close'],\n",
    "                                          year_2015['High'], year_2015['Low']],\n",
    "             labels={'Date': 'Date','value':'Stock value'})\n",
    "fig.update_layout(title_text='Stock analysis chart 2017', font_size=15, font_color='black',legend_title_text='Stock Parameters')\n",
    "fig.for_each_trace(lambda t:  t.update(name = next(names)))\n",
    "fig.update_xaxes(showgrid=False)\n",
    "fig.update_yaxes(showgrid=False)\n",
    "\n",
    "fig.show()"
   ]
  },
  {
   "cell_type": "markdown",
   "id": "7eb6b59d",
   "metadata": {
    "id": "7eb6b59d"
   },
   "source": [
    "#### YEAR 2016"
   ]
  },
  {
   "cell_type": "code",
   "execution_count": null,
   "id": "b01e5a50",
   "metadata": {
    "colab": {
     "base_uri": "https://localhost:8080/",
     "height": 424
    },
    "id": "b01e5a50",
    "outputId": "b03d92eb-f743-448e-91f9-986c082b58b0"
   },
   "outputs": [],
   "source": [
    "#How does this year look like as a whole?\n",
    "maindf['Date'] = pd.to_datetime(maindf['Date'], format='%Y-%m-%d')\n",
    "year_2016 = maindf.loc[(maindf['Date'] >= '2016-01-01') & (maindf['Date'] <= '2016-12-31')]\n",
    "year_2016.drop(year_2015[['Adj Close','Volume']],axis=1)"
   ]
  },
  {
   "cell_type": "code",
   "execution_count": null,
   "id": "07233c0e",
   "metadata": {
    "colab": {
     "base_uri": "https://localhost:8080/",
     "height": 457
    },
    "id": "07233c0e",
    "outputId": "c8a38c33-e974-44c3-f930-014c2dd613fe"
   },
   "outputs": [],
   "source": [
    "#how is the price distributed on the basis of month?\n",
    "monthly= year_2016.groupby(year_2016['Date'].dt.strftime('%B'))[['Open','Close']].mean()\n",
    "month_name = ['January', 'February', 'March', 'April', 'May', 'June', 'July', 'August',\n",
    "             'September', 'October', 'November', 'December']\n",
    "monthly = monthly.reindex(month_name, axis=0)\n",
    "monthly"
   ]
  },
  {
   "cell_type": "markdown",
   "id": "919e63f3",
   "metadata": {
    "id": "919e63f3"
   },
   "source": []
  },
  {
   "cell_type": "code",
   "execution_count": null,
   "id": "bea24875",
   "metadata": {
    "colab": {
     "base_uri": "https://localhost:8080/",
     "height": 542
    },
    "id": "bea24875",
    "outputId": "c2b805c3-7d54-49bd-be6d-0b70c2f5e4d9"
   },
   "outputs": [],
   "source": [
    "fig = go.Figure()\n",
    "\n",
    "fig.add_trace(go.Bar(\n",
    "    x=monthly .index,\n",
    "    y=monthly ['Open'],\n",
    "    name='Stock Open Price'\n",
    "))\n",
    "fig.add_trace(go.Bar(\n",
    "    x=monthly .index,\n",
    "    y=monthly ['Close'],\n",
    "    name='Stock Close Price',\n",
    "))\n",
    "\n",
    "fig.update_layout(barmode='group', xaxis_tickangle=-45,\n",
    "                  title='2016 Monthly comparative analysis')\n",
    "fig.show()"
   ]
  },
  {
   "cell_type": "markdown",
   "id": "62f4cd60",
   "metadata": {
    "id": "62f4cd60"
   },
   "source": [
    "**What about the opening and closing prices for months in the year**"
   ]
  },
  {
   "cell_type": "code",
   "execution_count": null,
   "id": "2608d85e",
   "metadata": {
    "colab": {
     "base_uri": "https://localhost:8080/",
     "height": 542
    },
    "id": "2608d85e",
    "outputId": "42c6b354-1215-4a86-f121-9ac52d4eeaae"
   },
   "outputs": [],
   "source": [
    "year_2016.groupby(year_2016['Date'].dt.strftime('%B'))['Low'].min()\n",
    "monthvise_high = year_2016.groupby(maindf['Date'].dt.strftime('%B'))['High'].max()\n",
    "monthvise_high = monthvise_high.reindex(month_name, axis=0)\n",
    "\n",
    "monthvise_low = year_2016.groupby(year_2016['Date'].dt.strftime('%B'))['Low'].min()\n",
    "monthvise_low = monthvise_low.reindex(month_name, axis=0)\n",
    "\n",
    "fig = go.Figure()\n",
    "fig.add_trace(go.Bar(\n",
    "    x=monthvise_high.index,\n",
    "    y=monthvise_high,\n",
    "    name='Stock high Price',\n",
    "))\n",
    "fig.add_trace(go.Bar(\n",
    "    x=monthvise_low.index,\n",
    "    y=monthvise_low,\n",
    "    name='Stock low Price',\n",
    "))\n",
    "\n",
    "fig.update_layout(barmode='group',\n",
    "                  title='High and Low Price 2016 (Monthly)')\n",
    "fig.show()"
   ]
  },
  {
   "cell_type": "markdown",
   "id": "6b214e8d",
   "metadata": {
    "id": "6b214e8d"
   },
   "source": [
    "**Now lets get a more combined signature**"
   ]
  },
  {
   "cell_type": "code",
   "execution_count": null,
   "id": "7a83c2cd",
   "metadata": {
    "colab": {
     "base_uri": "https://localhost:8080/",
     "height": 542
    },
    "id": "7a83c2cd",
    "outputId": "033f3b6a-0f05-47f6-ba2b-b0c58a261d90"
   },
   "outputs": [],
   "source": [
    "names = cycle(['Stock Open Price','Stock Close Price','Stock High Price','Stock Low Price'])\n",
    "\n",
    "fig = px.line(year_2016, x=year_2016.Date, y=[year_2016['Open'], year_2016['Close'],\n",
    "                                          year_2016['High'], year_2016['Low']],\n",
    "             labels={'Date': 'Date','value':'Stock value'})\n",
    "fig.update_layout(title_text='Stock analysis chart', font_size=15, font_color='black',legend_title_text='Stock Parameters')\n",
    "fig.for_each_trace(lambda t:  t.update(name = next(names)))\n",
    "fig.update_xaxes(showgrid=False)\n",
    "fig.update_yaxes(showgrid=False)\n",
    "\n",
    "fig.show()"
   ]
  },
  {
   "cell_type": "raw",
   "id": "e5675219",
   "metadata": {
    "id": "e5675219"
   },
   "source": [
    "<<<Since the first nine months do not have data, the **NaN** as well as the early gaps in the plots obtained for those months are understood>>>>"
   ]
  },
  {
   "cell_type": "code",
   "execution_count": null,
   "id": "54f001c3",
   "metadata": {
    "id": "54f001c3"
   },
   "outputs": [],
   "source": []
  },
  {
   "cell_type": "markdown",
   "id": "67330f45",
   "metadata": {
    "id": "67330f45"
   },
   "source": [
    "#### YEAR 2017"
   ]
  },
  {
   "cell_type": "code",
   "execution_count": null,
   "id": "b1ec2c47",
   "metadata": {
    "colab": {
     "base_uri": "https://localhost:8080/",
     "height": 424
    },
    "id": "b1ec2c47",
    "outputId": "64b57ecf-5a40-44da-f9d6-e5f82c9d73c2"
   },
   "outputs": [],
   "source": [
    "#How does this year look like as a whole?\n",
    "maindf['Date'] = pd.to_datetime(maindf['Date'], format='%Y-%m-%d')\n",
    "year_2017 = maindf.loc[(maindf['Date'] >= '2017-01-01') & (maindf['Date'] <= '2017-12-31')]\n",
    "year_2017.drop(year_2017[['Adj Close','Volume']],axis=1)"
   ]
  },
  {
   "cell_type": "code",
   "execution_count": null,
   "id": "71260b4e",
   "metadata": {
    "colab": {
     "base_uri": "https://localhost:8080/",
     "height": 457
    },
    "id": "71260b4e",
    "outputId": "d0d02e24-6625-4c4d-9546-8559ab1faec6"
   },
   "outputs": [],
   "source": [
    "#how is the price distributed on the basis of month?\n",
    "monthly= year_2017.groupby(year_2017['Date'].dt.strftime('%B'))[['Open','Close']].mean()\n",
    "month_name = ['January', 'February', 'March', 'April', 'May', 'June', 'July', 'August',\n",
    "             'September', 'October', 'November', 'December']\n",
    "monthly = monthly.reindex(month_name, axis=0)\n",
    "monthly"
   ]
  },
  {
   "cell_type": "code",
   "execution_count": null,
   "id": "f8d2b855",
   "metadata": {
    "id": "f8d2b855"
   },
   "outputs": [],
   "source": []
  },
  {
   "cell_type": "code",
   "execution_count": null,
   "id": "28ca328c",
   "metadata": {
    "colab": {
     "base_uri": "https://localhost:8080/",
     "height": 542
    },
    "id": "28ca328c",
    "outputId": "37e503af-54a8-459a-a9d3-bae76dcc60b4"
   },
   "outputs": [],
   "source": [
    "fig = go.Figure()\n",
    "\n",
    "fig.add_trace(go.Bar(\n",
    "    x=monthly .index,\n",
    "    y=monthly ['Open'],\n",
    "    name='Stock Open Price'\n",
    "))\n",
    "fig.add_trace(go.Bar(\n",
    "    x=monthly .index,\n",
    "    y=monthly ['Close'],\n",
    "    name='Stock Close Price',\n",
    "))\n",
    "\n",
    "fig.update_layout(barmode='group', xaxis_tickangle=-45,\n",
    "                  title='2017 Monthly comparative analysis')\n",
    "fig.show()"
   ]
  },
  {
   "cell_type": "markdown",
   "id": "8c01ee1f",
   "metadata": {
    "id": "8c01ee1f"
   },
   "source": [
    "**What about the opening and closing prices for months in the year**"
   ]
  },
  {
   "cell_type": "code",
   "execution_count": null,
   "id": "d14b95bc",
   "metadata": {
    "colab": {
     "base_uri": "https://localhost:8080/",
     "height": 542
    },
    "id": "d14b95bc",
    "outputId": "aa581d8d-5cf6-41c7-cb33-40a5789b6168"
   },
   "outputs": [],
   "source": [
    "year_2017.groupby(year_2017['Date'].dt.strftime('%B'))['Low'].min()\n",
    "monthvise_high = year_2017.groupby(maindf['Date'].dt.strftime('%B'))['High'].max()\n",
    "monthvise_high = monthvise_high.reindex(month_name, axis=0)\n",
    "\n",
    "monthvise_low = year_2017.groupby(year_2017['Date'].dt.strftime('%B'))['Low'].min()\n",
    "monthvise_low = monthvise_low.reindex(month_name, axis=0)\n",
    "\n",
    "fig = go.Figure()\n",
    "fig.add_trace(go.Bar(\n",
    "    x=monthvise_high.index,\n",
    "    y=monthvise_high,\n",
    "    name='Stock high Price',\n",
    "))\n",
    "fig.add_trace(go.Bar(\n",
    "    x=monthvise_low.index,\n",
    "    y=monthvise_low,\n",
    "    name='Stock low Price',\n",
    "))\n",
    "\n",
    "fig.update_layout(barmode='group',\n",
    "                  title='High and Low Price 2017 (Monthly)')\n",
    "fig.show()"
   ]
  },
  {
   "cell_type": "markdown",
   "id": "5a103b2d",
   "metadata": {
    "id": "5a103b2d"
   },
   "source": [
    "**Now lets get a more combined signature**"
   ]
  },
  {
   "cell_type": "code",
   "execution_count": null,
   "id": "f51d80f0",
   "metadata": {
    "colab": {
     "base_uri": "https://localhost:8080/",
     "height": 542
    },
    "id": "f51d80f0",
    "outputId": "46a0c58d-7c8b-41eb-9717-b8a336750db4"
   },
   "outputs": [],
   "source": [
    "names = cycle(['Stock Open Price','Stock Close Price','Stock High Price','Stock Low Price'])\n",
    "\n",
    "fig = px.line(year_2017, x=year_2017.Date, y=[year_2017['Open'], year_2017['Close'],\n",
    "                                          year_2017['High'], year_2017['Low']],\n",
    "             labels={'Date': 'Date','value':'Stock value'})\n",
    "fig.update_layout(title_text='Stock analysis chart 2017', font_size=15, font_color='black',legend_title_text='Stock Parameters')\n",
    "fig.for_each_trace(lambda t:  t.update(name = next(names)))\n",
    "fig.update_xaxes(showgrid=False)\n",
    "fig.update_yaxes(showgrid=False)\n",
    "\n",
    "fig.show()"
   ]
  },
  {
   "cell_type": "code",
   "execution_count": null,
   "id": "cdcb51ed",
   "metadata": {
    "id": "cdcb51ed"
   },
   "outputs": [],
   "source": []
  },
  {
   "cell_type": "markdown",
   "id": "e5924bdf",
   "metadata": {
    "id": "e5924bdf"
   },
   "source": [
    "#### YEAR 2018"
   ]
  },
  {
   "cell_type": "code",
   "execution_count": null,
   "id": "5402df46",
   "metadata": {
    "colab": {
     "base_uri": "https://localhost:8080/",
     "height": 424
    },
    "id": "5402df46",
    "outputId": "4adbed76-5c4b-40a1-bdd7-be955d75aec4"
   },
   "outputs": [],
   "source": [
    "#How does this year look like as a whole?\n",
    "maindf['Date'] = pd.to_datetime(maindf['Date'], format='%Y-%m-%d')\n",
    "year_2018 = maindf.loc[(maindf['Date'] >= '2018-01-01') & (maindf['Date'] <= '2018-12-31')]\n",
    "year_2018.drop(year_2018[['Adj Close','Volume']],axis=1)"
   ]
  },
  {
   "cell_type": "code",
   "execution_count": null,
   "id": "4959f60b",
   "metadata": {
    "colab": {
     "base_uri": "https://localhost:8080/",
     "height": 457
    },
    "id": "4959f60b",
    "outputId": "44d772e6-b734-4e20-832d-0e59a3aed511"
   },
   "outputs": [],
   "source": [
    "#how is the price distributed on the basis of month?\n",
    "monthly= year_2018.groupby(year_2018['Date'].dt.strftime('%B'))[['Open','Close']].mean()\n",
    "month_name = ['January', 'February', 'March', 'April', 'May', 'June', 'July', 'August',\n",
    "             'September', 'October', 'November', 'December']\n",
    "monthly = monthly.reindex(month_name, axis=0)\n",
    "monthly"
   ]
  },
  {
   "cell_type": "code",
   "execution_count": null,
   "id": "3b7fd08e",
   "metadata": {
    "colab": {
     "base_uri": "https://localhost:8080/",
     "height": 542
    },
    "id": "3b7fd08e",
    "outputId": "6a015e8a-603a-4419-86a2-024b0a330e8a"
   },
   "outputs": [],
   "source": [
    "fig = go.Figure()\n",
    "\n",
    "fig.add_trace(go.Bar(\n",
    "    x=monthly .index,\n",
    "    y=monthly ['Open'],\n",
    "    name='Stock Open Price'\n",
    "))\n",
    "fig.add_trace(go.Bar(\n",
    "    x=monthly .index,\n",
    "    y=monthly ['Close'],\n",
    "    name='Stock Close Price',\n",
    "))\n",
    "\n",
    "fig.update_layout(barmode='group', xaxis_tickangle=-45,\n",
    "                  title='2018 Monthly comparative analysis')\n",
    "fig.show()"
   ]
  },
  {
   "cell_type": "markdown",
   "id": "efa662e9",
   "metadata": {
    "id": "efa662e9"
   },
   "source": [
    "**What about the opening and closing prices for months in the year**"
   ]
  },
  {
   "cell_type": "code",
   "execution_count": null,
   "id": "15eac22c",
   "metadata": {
    "colab": {
     "base_uri": "https://localhost:8080/"
    },
    "id": "15eac22c",
    "outputId": "1479f987-fc6e-4d4f-d4fc-919d9529069b"
   },
   "outputs": [],
   "source": [
    "year_2018.groupby(year_2018['Date'].dt.strftime('%B'))['Low'].min()\n",
    "monthvise_high = year_2018.groupby(maindf['Date'].dt.strftime('%B'))['High'].max()\n",
    "monthvise_high = monthvise_high.reindex(month_name, axis=0)\n",
    "\n",
    "monthvise_low = year_2018.groupby(year_2018['Date'].dt.strftime('%B'))['Low'].min()\n",
    "monthvise_low = monthvise_low.reindex(month_name, axis=0)\n",
    "\n",
    "fig = go.Figure()\n",
    "fig.add_trace(go.Bar(\n",
    "    x=monthvise_high.index,\n",
    "    y=monthvise_high,\n",
    "    name='Stock high Price',\n",
    "))\n",
    "fig.add_trace(go.Bar(\n",
    "    x=monthvise_low.index,\n",
    "    y=monthvise_low,\n",
    "    name='Stock low Price',\n",
    "))\n",
    "\n",
    "fig.update_layout(barmode='group',\n",
    "                  title='High and Low Price 2018 (Monthly)')\n",
    "fig.show()"
   ]
  },
  {
   "cell_type": "markdown",
   "id": "8c51898c",
   "metadata": {
    "id": "8c51898c"
   },
   "source": [
    "**Now lets get a more combined signature**"
   ]
  },
  {
   "cell_type": "code",
   "execution_count": null,
   "id": "702b90eb",
   "metadata": {
    "colab": {
     "base_uri": "https://localhost:8080/"
    },
    "id": "702b90eb",
    "outputId": "1089dce5-6d1a-4264-e7eb-7971d1191940",
    "scrolled": false
   },
   "outputs": [],
   "source": [
    "names = cycle(['Stock Open Price','Stock Close Price','Stock High Price','Stock Low Price'])\n",
    "\n",
    "fig = px.line(year_2018, x=year_2018.Date, y=[year_2018['Open'], year_2018['Close'],\n",
    "                                          year_2018['High'], year_2018['Low']],\n",
    "             labels={'Date': 'Date','value':'Stock value'})\n",
    "fig.update_layout(title_text='Stock analysis chart', font_size=15, font_color='black',legend_title_text='Stock Parameters')\n",
    "fig.for_each_trace(lambda t:  t.update(name = next(names)))\n",
    "fig.update_xaxes(showgrid=False)\n",
    "fig.update_yaxes(showgrid=False)\n",
    "\n",
    "fig.show()"
   ]
  },
  {
   "cell_type": "code",
   "execution_count": null,
   "id": "9da73e6f",
   "metadata": {
    "id": "9da73e6f"
   },
   "outputs": [],
   "source": []
  },
  {
   "cell_type": "code",
   "execution_count": null,
   "id": "659a0131",
   "metadata": {
    "colab": {
     "base_uri": "https://localhost:8080/",
     "height": 424
    },
    "id": "659a0131",
    "outputId": "289e59ca-a2e8-437a-963e-1664c0b514b7"
   },
   "outputs": [],
   "source": [
    "#How does this year look like as a whole?\n",
    "maindf['Date'] = pd.to_datetime(maindf['Date'], format='%Y-%m-%d')\n",
    "year_2019 = maindf.loc[(maindf['Date'] >= '2019-01-01') & (maindf['Date'] <= '2019-12-31')]\n",
    "year_2019.drop(year_2019[['Adj Close','Volume']],axis=1)"
   ]
  },
  {
   "cell_type": "code",
   "execution_count": null,
   "id": "c04dd207",
   "metadata": {
    "colab": {
     "base_uri": "https://localhost:8080/",
     "height": 457
    },
    "id": "c04dd207",
    "outputId": "4d9d6a19-5ce3-4139-d163-a5f67bae9eed"
   },
   "outputs": [],
   "source": [
    "#how is the price distributed on the basis of month?\n",
    "monthly= year_2019.groupby(year_2019['Date'].dt.strftime('%B'))[['Open','Close']].mean()\n",
    "month_name = ['January', 'February', 'March', 'April', 'May', 'June', 'July', 'August',\n",
    "             'September', 'October', 'November', 'December']\n",
    "monthly = monthly.reindex(month_name, axis=0)\n",
    "monthly"
   ]
  },
  {
   "cell_type": "code",
   "execution_count": null,
   "id": "700e564a",
   "metadata": {
    "colab": {
     "base_uri": "https://localhost:8080/"
    },
    "id": "700e564a",
    "outputId": "020b8542-bb62-4bc4-cadf-e8040ce3b782"
   },
   "outputs": [],
   "source": [
    "fig = go.Figure()\n",
    "\n",
    "fig.add_trace(go.Bar(\n",
    "    x=monthly .index,\n",
    "    y=monthly ['Open'],\n",
    "    name='Stock Open Price'\n",
    "))\n",
    "fig.add_trace(go.Bar(\n",
    "    x=monthly .index,\n",
    "    y=monthly ['Close'],\n",
    "    name='Stock Close Price',\n",
    "))\n",
    "\n",
    "fig.update_layout(barmode='group', xaxis_tickangle=-45,\n",
    "                  title='2019 Monthly comparative analysis')\n",
    "fig.show()"
   ]
  },
  {
   "cell_type": "markdown",
   "id": "2ea34d4c",
   "metadata": {
    "id": "2ea34d4c"
   },
   "source": [
    "**What about the opening and closing prices for months in the year**"
   ]
  },
  {
   "cell_type": "code",
   "execution_count": null,
   "id": "072a1acc",
   "metadata": {
    "colab": {
     "base_uri": "https://localhost:8080/"
    },
    "id": "072a1acc",
    "outputId": "feb45d43-d921-4a8b-ba31-8ee1aafbd554"
   },
   "outputs": [],
   "source": [
    "year_2019.groupby(year_2019['Date'].dt.strftime('%B'))['Low'].min()\n",
    "monthvise_high = year_2019.groupby(maindf['Date'].dt.strftime('%B'))['High'].max()\n",
    "monthvise_high = monthvise_high.reindex(month_name, axis=0)\n",
    "\n",
    "monthvise_low = year_2019.groupby(year_2019['Date'].dt.strftime('%B'))['Low'].min()\n",
    "monthvise_low = monthvise_low.reindex(month_name, axis=0)\n",
    "\n",
    "fig = go.Figure()\n",
    "fig.add_trace(go.Bar(\n",
    "    x=monthvise_high.index,\n",
    "    y=monthvise_high,\n",
    "    name='Stock high Price',\n",
    "))\n",
    "fig.add_trace(go.Bar(\n",
    "    x=monthvise_low.index,\n",
    "    y=monthvise_low,\n",
    "    name='Stock low Price',\n",
    "))\n",
    "\n",
    "fig.update_layout(barmode='group',\n",
    "                  title='High and Low Price 2019 (Monthly)')\n",
    "fig.show()"
   ]
  },
  {
   "cell_type": "markdown",
   "id": "11027a26",
   "metadata": {
    "id": "11027a26"
   },
   "source": [
    "**Now lets get a more combined signature**"
   ]
  },
  {
   "cell_type": "code",
   "execution_count": null,
   "id": "eca81b47",
   "metadata": {
    "colab": {
     "base_uri": "https://localhost:8080/"
    },
    "id": "eca81b47",
    "outputId": "4e495a6e-d0ec-4bcc-d65f-b81e94bfbc9e"
   },
   "outputs": [],
   "source": [
    "names = cycle(['Stock Open Price','Stock Close Price','Stock High Price','Stock Low Price'])\n",
    "\n",
    "fig = px.line(year_2019, x=year_2019.Date, y=[year_2019['Open'], year_2019['Close'],\n",
    "                                          year_2019['High'], year_2019['Low']],\n",
    "             labels={'Date': 'Date','value':'Stock value'})\n",
    "fig.update_layout(title_text='Stock analysis chart', font_size=15, font_color='black',legend_title_text='Stock Parameters')\n",
    "fig.for_each_trace(lambda t:  t.update(name = next(names)))\n",
    "fig.update_xaxes(showgrid=False)\n",
    "fig.update_yaxes(showgrid=False)\n",
    "\n",
    "fig.show()"
   ]
  },
  {
   "cell_type": "raw",
   "id": "39a0624b",
   "metadata": {
    "id": "39a0624b"
   },
   "source": [
    "<<<Since the first nine months do not have data, the **NaN** as well as the early gaps in the plots obtained for those months are understood>>>>"
   ]
  },
  {
   "cell_type": "code",
   "execution_count": null,
   "id": "30441cd7",
   "metadata": {
    "id": "30441cd7"
   },
   "outputs": [],
   "source": []
  },
  {
   "cell_type": "markdown",
   "id": "348ff081",
   "metadata": {
    "id": "348ff081"
   },
   "source": [
    "#### YEAR 2015"
   ]
  },
  {
   "cell_type": "code",
   "execution_count": null,
   "id": "9b68de41",
   "metadata": {
    "colab": {
     "base_uri": "https://localhost:8080/"
    },
    "id": "9b68de41",
    "outputId": "9a94c287-7203-4eee-cfc6-d27d768076f8"
   },
   "outputs": [],
   "source": [
    "#How does this year look like as a whole?\n",
    "maindf['Date'] = pd.to_datetime(maindf['Date'], format='%Y-%m-%d')\n",
    "year_2020 = maindf.loc[(maindf['Date'] >= '2020-01-01') & (maindf['Date'] <= '2020-12-31')]\n",
    "year_2020.drop(year_2020[['Adj Close','Volume']],axis=1)"
   ]
  },
  {
   "cell_type": "code",
   "execution_count": null,
   "id": "0f9aec2e",
   "metadata": {
    "colab": {
     "base_uri": "https://localhost:8080/"
    },
    "id": "0f9aec2e",
    "outputId": "67c70d72-3506-4ebb-cfbe-5f938134f3dd"
   },
   "outputs": [],
   "source": [
    "#how is the price distributed on the basis of month?\n",
    "monthly= year_2020.groupby(year_2020['Date'].dt.strftime('%B'))[['Open','Close']].mean()\n",
    "month_name = ['January', 'February', 'March', 'April', 'May', 'June', 'July', 'August',\n",
    "             'September', 'October', 'November', 'December']\n",
    "monthly = monthly.reindex(month_name, axis=0)\n",
    "monthly"
   ]
  },
  {
   "cell_type": "code",
   "execution_count": null,
   "id": "5acc5f88",
   "metadata": {
    "colab": {
     "base_uri": "https://localhost:8080/"
    },
    "id": "5acc5f88",
    "outputId": "b91514fa-41ac-43e0-b89a-836e0ef22591"
   },
   "outputs": [],
   "source": [
    "fig = go.Figure()\n",
    "\n",
    "fig.add_trace(go.Bar(\n",
    "    x=monthly .index,\n",
    "    y=monthly ['Open'],\n",
    "    name='Stock Open Price'\n",
    "))\n",
    "fig.add_trace(go.Bar(\n",
    "    x=monthly .index,\n",
    "    y=monthly ['Close'],\n",
    "    name='Stock Close Price',\n",
    "))\n",
    "\n",
    "fig.update_layout(barmode='group', xaxis_tickangle=-45,\n",
    "                  title='2020 Monthly comparative analysis')\n",
    "fig.show()"
   ]
  },
  {
   "cell_type": "markdown",
   "id": "6eab7ab9",
   "metadata": {
    "id": "6eab7ab9"
   },
   "source": [
    "**What about the opening and closing prices for months in the year**"
   ]
  },
  {
   "cell_type": "code",
   "execution_count": null,
   "id": "819bd27d",
   "metadata": {
    "colab": {
     "base_uri": "https://localhost:8080/"
    },
    "id": "819bd27d",
    "outputId": "6d709850-f159-4ed9-fdd9-5a2dedd034dd"
   },
   "outputs": [],
   "source": [
    "year_2020.groupby(year_2020['Date'].dt.strftime('%B'))['Low'].min()\n",
    "monthvise_high = year_2020.groupby(maindf['Date'].dt.strftime('%B'))['High'].max()\n",
    "monthvise_high = monthvise_high.reindex(month_name, axis=0)\n",
    "\n",
    "monthvise_low = year_2020.groupby(year_2020['Date'].dt.strftime('%B'))['Low'].min()\n",
    "monthvise_low = monthvise_low.reindex(month_name, axis=0)\n",
    "\n",
    "fig = go.Figure()\n",
    "fig.add_trace(go.Bar(\n",
    "    x=monthvise_high.index,\n",
    "    y=monthvise_high,\n",
    "    name='Stock high Price',\n",
    "))\n",
    "fig.add_trace(go.Bar(\n",
    "    x=monthvise_low.index,\n",
    "    y=monthvise_low,\n",
    "    name='Stock low Price',\n",
    "))\n",
    "\n",
    "fig.update_layout(barmode='group',\n",
    "                  title='High and Low Price 2020 (Monthly)')\n",
    "fig.show()"
   ]
  },
  {
   "cell_type": "markdown",
   "id": "401e61ad",
   "metadata": {
    "id": "401e61ad"
   },
   "source": [
    "**Now lets get a more combined signature**"
   ]
  },
  {
   "cell_type": "code",
   "execution_count": null,
   "id": "5acbd587",
   "metadata": {
    "colab": {
     "base_uri": "https://localhost:8080/"
    },
    "id": "5acbd587",
    "outputId": "43ddbba8-99f1-48c4-e227-287b58827bc6"
   },
   "outputs": [],
   "source": [
    "names = cycle(['Stock Open Price','Stock Close Price','Stock High Price','Stock Low Price'])\n",
    "\n",
    "fig = px.line(year_2020, x=year_2020.Date, y=[year_2020['Open'], year_2020['Close'],\n",
    "                                          year_2020['High'], year_2020['Low']],\n",
    "             labels={'Date': 'Date','value':'Stock value'})\n",
    "fig.update_layout(title_text='Stock analysis chart', font_size=15, font_color='black',legend_title_text='Stock Parameters')\n",
    "fig.for_each_trace(lambda t:  t.update(name = next(names)))\n",
    "fig.update_xaxes(showgrid=False)\n",
    "fig.update_yaxes(showgrid=False)\n",
    "\n",
    "fig.show()"
   ]
  },
  {
   "cell_type": "code",
   "execution_count": null,
   "id": "788bc3bf",
   "metadata": {
    "id": "788bc3bf"
   },
   "outputs": [],
   "source": []
  },
  {
   "cell_type": "markdown",
   "id": "6188954c",
   "metadata": {
    "id": "6188954c"
   },
   "source": [
    "#### YEAR 2021"
   ]
  },
  {
   "cell_type": "code",
   "execution_count": null,
   "id": "b0119d68",
   "metadata": {
    "colab": {
     "base_uri": "https://localhost:8080/"
    },
    "id": "b0119d68",
    "outputId": "f902e31a-8e3a-43bd-9efb-c5daba4da9b5"
   },
   "outputs": [],
   "source": [
    "#How does this year look like as a whole?\n",
    "maindf['Date'] = pd.to_datetime(maindf['Date'], format='%Y-%m-%d')\n",
    "year_2021 = maindf.loc[(maindf['Date'] >= '2021-01-01') & (maindf['Date'] <= '2021-12-31')]\n",
    "year_2021.drop(year_2021[['Adj Close','Volume']],axis=1)"
   ]
  },
  {
   "cell_type": "code",
   "execution_count": null,
   "id": "56af28ff",
   "metadata": {
    "colab": {
     "base_uri": "https://localhost:8080/"
    },
    "id": "56af28ff",
    "outputId": "9d1c33fd-2bbd-49c0-e658-7fa21aab33b5"
   },
   "outputs": [],
   "source": [
    "#how is the price distributed on the basis of month?\n",
    "monthly= year_2021.groupby(year_2021['Date'].dt.strftime('%B'))[['Open','Close']].mean()\n",
    "month_name = ['January', 'February', 'March', 'April', 'May', 'June', 'July', 'August',\n",
    "             'September', 'October', 'November', 'December']\n",
    "monthly = monthly.reindex(month_name, axis=0)\n",
    "monthly"
   ]
  },
  {
   "cell_type": "code",
   "execution_count": null,
   "id": "370b6497",
   "metadata": {
    "id": "370b6497"
   },
   "outputs": [],
   "source": []
  },
  {
   "cell_type": "code",
   "execution_count": null,
   "id": "58c2969e",
   "metadata": {
    "colab": {
     "base_uri": "https://localhost:8080/"
    },
    "id": "58c2969e",
    "outputId": "cf519ba5-ab9f-42de-ab40-a20ffe4c7683"
   },
   "outputs": [],
   "source": [
    "fig = go.Figure()\n",
    "\n",
    "fig.add_trace(go.Bar(\n",
    "    x=monthly .index,\n",
    "    y=monthly ['Open'],\n",
    "    name='Stock Open Price'\n",
    "))\n",
    "fig.add_trace(go.Bar(\n",
    "    x=monthly .index,\n",
    "    y=monthly ['Close'],\n",
    "    name='Stock Close Price',\n",
    "))\n",
    "\n",
    "fig.update_layout(barmode='group', xaxis_tickangle=-45,\n",
    "                  title='2021 Monthly comparative analysis')\n",
    "fig.show()"
   ]
  },
  {
   "cell_type": "markdown",
   "id": "61398c3f",
   "metadata": {
    "id": "61398c3f"
   },
   "source": [
    "**What about the opening and closing prices for months in the year**"
   ]
  },
  {
   "cell_type": "code",
   "execution_count": null,
   "id": "4e7876eb",
   "metadata": {
    "colab": {
     "base_uri": "https://localhost:8080/"
    },
    "id": "4e7876eb",
    "outputId": "fbb94697-cadb-44ba-9b00-d5d6d68e07a3"
   },
   "outputs": [],
   "source": [
    "year_2021.groupby(year_2021['Date'].dt.strftime('%B'))['Low'].min()\n",
    "monthvise_high = year_2021.groupby(maindf['Date'].dt.strftime('%B'))['High'].max()\n",
    "monthvise_high = monthvise_high.reindex(month_name, axis=0)\n",
    "\n",
    "monthvise_low = year_2021.groupby(year_2021['Date'].dt.strftime('%B'))['Low'].min()\n",
    "monthvise_low = monthvise_low.reindex(month_name, axis=0)\n",
    "\n",
    "fig = go.Figure()\n",
    "fig.add_trace(go.Bar(\n",
    "    x=monthvise_high.index,\n",
    "    y=monthvise_high,\n",
    "    name='Stock high Price',\n",
    "))\n",
    "fig.add_trace(go.Bar(\n",
    "    x=monthvise_low.index,\n",
    "    y=monthvise_low,\n",
    "    name='Stock low Price',\n",
    "))\n",
    "\n",
    "fig.update_layout(barmode='group',\n",
    "                  title='High and Low Price 2021 (Monthly)')\n",
    "fig.show()"
   ]
  },
  {
   "cell_type": "markdown",
   "id": "af46323f",
   "metadata": {
    "id": "af46323f"
   },
   "source": [
    "**Now lets get a more combined signature**"
   ]
  },
  {
   "cell_type": "code",
   "execution_count": null,
   "id": "de87410d",
   "metadata": {
    "colab": {
     "base_uri": "https://localhost:8080/"
    },
    "id": "de87410d",
    "outputId": "178070c6-512c-4a2d-ff2f-882dcce5b804",
    "scrolled": false
   },
   "outputs": [],
   "source": [
    "names = cycle(['Stock Open Price','Stock Close Price','Stock High Price','Stock Low Price'])\n",
    "\n",
    "fig = px.line(year_2021, x=year_2021.Date, y=[year_2021['Open'], year_2021['Close'],\n",
    "                                          year_2021['High'], year_2021['Low']],\n",
    "             labels={'Date': 'Date','value':'Stock value'})\n",
    "fig.update_layout(title_text='Stock analysis chart', font_size=15, font_color='black',legend_title_text='Stock Parameters')\n",
    "fig.for_each_trace(lambda t:  t.update(name = next(names)))\n",
    "fig.update_xaxes(showgrid=False)\n",
    "fig.update_yaxes(showgrid=False)\n",
    "\n",
    "fig.show()"
   ]
  },
  {
   "cell_type": "code",
   "execution_count": null,
   "id": "ec75a62a",
   "metadata": {
    "id": "ec75a62a"
   },
   "outputs": [],
   "source": []
  },
  {
   "cell_type": "markdown",
   "id": "e3550535",
   "metadata": {
    "id": "e3550535"
   },
   "source": [
    "#### YEAR 2022"
   ]
  },
  {
   "cell_type": "code",
   "execution_count": null,
   "id": "d5b0b545",
   "metadata": {
    "colab": {
     "base_uri": "https://localhost:8080/"
    },
    "id": "d5b0b545",
    "outputId": "4b56a93b-1f76-4c85-e753-5bd7bde48b8b"
   },
   "outputs": [],
   "source": [
    "#How does this year look like as a whole?\n",
    "maindf['Date'] = pd.to_datetime(maindf['Date'], format='%Y-%m-%d')\n",
    "year_2022 = maindf.loc[(maindf['Date'] >= '2022-01-01') & (maindf['Date'] <= '2022-12-31')]\n",
    "year_2022.drop(year_2022[['Adj Close','Volume']],axis=1)"
   ]
  },
  {
   "cell_type": "code",
   "execution_count": null,
   "id": "a6d91468",
   "metadata": {
    "colab": {
     "base_uri": "https://localhost:8080/"
    },
    "id": "a6d91468",
    "outputId": "3b25452d-ebf8-49ba-8f0c-4ccc27551fdd"
   },
   "outputs": [],
   "source": [
    "#how is the price distributed on the basis of month?\n",
    "monthly= year_2022.groupby(year_2022['Date'].dt.strftime('%B'))[['Open','Close']].mean()\n",
    "month_name = ['January', 'February', 'March', 'April', 'May', 'June', 'July', 'August',\n",
    "             'September', 'October', 'November', 'December']\n",
    "monthly = monthly.reindex(month_name, axis=0)\n",
    "monthly"
   ]
  },
  {
   "cell_type": "code",
   "execution_count": null,
   "id": "fd78d86f",
   "metadata": {
    "id": "fd78d86f"
   },
   "outputs": [],
   "source": []
  },
  {
   "cell_type": "code",
   "execution_count": null,
   "id": "8bce6b28",
   "metadata": {
    "colab": {
     "base_uri": "https://localhost:8080/"
    },
    "id": "8bce6b28",
    "outputId": "7ed1304f-827c-4fe5-af55-6eb6bce24b8d"
   },
   "outputs": [],
   "source": [
    "fig = go.Figure()\n",
    "\n",
    "fig.add_trace(go.Bar(\n",
    "    x=monthly .index,\n",
    "    y=monthly ['Open'],\n",
    "    name='Stock Open Price'\n",
    "))\n",
    "fig.add_trace(go.Bar(\n",
    "    x=monthly .index,\n",
    "    y=monthly ['Close'],\n",
    "    name='Stock Close Price',\n",
    "))\n",
    "\n",
    "fig.update_layout(barmode='group', xaxis_tickangle=-45,\n",
    "                  title='2022 Monthly comparative analysis')\n",
    "fig.show()"
   ]
  },
  {
   "cell_type": "markdown",
   "id": "61f07174",
   "metadata": {
    "id": "61f07174"
   },
   "source": [
    "**What about the opening and closing prices for months in the year**"
   ]
  },
  {
   "cell_type": "code",
   "execution_count": null,
   "id": "b19c7340",
   "metadata": {
    "colab": {
     "base_uri": "https://localhost:8080/"
    },
    "id": "b19c7340",
    "outputId": "726e882c-452b-46ba-9ba9-cacd96cf35d4"
   },
   "outputs": [],
   "source": [
    "year_2022.groupby(year_2022['Date'].dt.strftime('%B'))['Low'].min()\n",
    "monthvise_high = year_2022.groupby(maindf['Date'].dt.strftime('%B'))['High'].max()\n",
    "monthvise_high = monthvise_high.reindex(month_name, axis=0)\n",
    "\n",
    "monthvise_low = year_2022.groupby(year_2022['Date'].dt.strftime('%B'))['Low'].min()\n",
    "monthvise_low = monthvise_low.reindex(month_name, axis=0)\n",
    "\n",
    "fig = go.Figure()\n",
    "fig.add_trace(go.Bar(\n",
    "    x=monthvise_high.index,\n",
    "    y=monthvise_high,\n",
    "    name='Stock high Price',\n",
    "))\n",
    "fig.add_trace(go.Bar(\n",
    "    x=monthvise_low.index,\n",
    "    y=monthvise_low,\n",
    "    name='Stock low Price',\n",
    "))\n",
    "\n",
    "fig.update_layout(barmode='group',\n",
    "                  title='High and Low Price 2022 (Monthly)')\n",
    "fig.show()"
   ]
  },
  {
   "cell_type": "markdown",
   "id": "01ca190c",
   "metadata": {
    "id": "01ca190c"
   },
   "source": [
    "**Now lets get a more combined signature**"
   ]
  },
  {
   "cell_type": "code",
   "execution_count": null,
   "id": "d06f5f52",
   "metadata": {
    "colab": {
     "base_uri": "https://localhost:8080/"
    },
    "id": "d06f5f52",
    "outputId": "a6f825ec-022c-4ced-fa7e-0e9d39eca07c",
    "scrolled": true
   },
   "outputs": [],
   "source": [
    "names = cycle(['Stock Open Price','Stock Close Price','Stock High Price','Stock Low Price'])\n",
    "\n",
    "fig = px.line(year_2022, x=year_2022.Date, y=[year_2022['Open'], year_2022['Close'],\n",
    "                                          year_2022['High'], year_2022['Low']],\n",
    "             labels={'Date': 'Date','value':'Stock value'})\n",
    "fig.update_layout(title_text='Stock analysis chart', font_size=15, font_color='black',legend_title_text='Stock Parameters')\n",
    "fig.for_each_trace(lambda t:  t.update(name = next(names)))\n",
    "fig.update_xaxes(showgrid=False)\n",
    "fig.update_yaxes(showgrid=False)\n",
    "\n",
    "fig.show()"
   ]
  },
  {
   "cell_type": "markdown",
   "id": "8e15efdd",
   "metadata": {
    "id": "8e15efdd"
   },
   "source": [
    "# Overall Analysis from 2014-2022"
   ]
  },
  {
   "cell_type": "code",
   "execution_count": null,
   "id": "a7b2c690",
   "metadata": {
    "colab": {
     "base_uri": "https://localhost:8080/"
    },
    "id": "a7b2c690",
    "outputId": "4ce03b7c-e173-4337-b532-e931d15688e9"
   },
   "outputs": [],
   "source": [
    "maindf['Date'] = pd.to_datetime(maindf['Date'], format='%Y-%m-%d')\n",
    "\n",
    "y_overall = maindf.loc[(maindf['Date'] >= '2014-09-17')\n",
    "                     & (maindf['Date'] <= '2022-02-19')]\n",
    "\n",
    "y_overall.drop(y_overall[['Adj Close','Volume']],axis=1)"
   ]
  },
  {
   "cell_type": "code",
   "execution_count": null,
   "id": "4d186ad9",
   "metadata": {
    "colab": {
     "base_uri": "https://localhost:8080/"
    },
    "id": "4d186ad9",
    "outputId": "cd4a3c88-ea3d-4720-8ca2-849852abe38c"
   },
   "outputs": [],
   "source": [
    "monthvise= y_overall.groupby(y_overall['Date'].dt.strftime('%B'))[['Open','Close']].mean()\n",
    "new_order = ['January', 'February', 'March', 'April', 'May', 'June', 'July', 'August',\n",
    "             'September', 'October', 'November', 'December']\n",
    "monthvise = monthvise.reindex(new_order, axis=0)\n",
    "monthvise"
   ]
  },
  {
   "cell_type": "code",
   "execution_count": null,
   "id": "18fcefcd",
   "metadata": {
    "colab": {
     "base_uri": "https://localhost:8080/"
    },
    "id": "18fcefcd",
    "outputId": "c1efd502-db6e-45ad-c100-81ba50134e5a"
   },
   "outputs": [],
   "source": [
    "names = cycle(['Stock Open Price','Stock Close Price','Stock High Price','Stock Low Price'])\n",
    "\n",
    "fig = px.line(y_overall, x=y_overall.Date, y=[y_overall['Open'], y_overall['Close'],\n",
    "                                          y_overall['High'], y_overall['Low']],\n",
    "             labels={'Date': 'Date','value':'Stock value'})\n",
    "fig.update_layout(title_text='Stock analysis chart', font_size=15, font_color='black',legend_title_text='Stock Parameters')\n",
    "fig.for_each_trace(lambda t:  t.update(name = next(names)))\n",
    "fig.update_xaxes(showgrid=False)\n",
    "fig.update_yaxes(showgrid=False)\n",
    "\n",
    "fig.show()"
   ]
  },
  {
   "cell_type": "markdown",
   "id": "3f639798",
   "metadata": {
    "id": "3f639798"
   },
   "source": [
    "\n",
    "\n",
    "*   List item\n",
    "*   List item\n",
    "\n"
   ]
  },
  {
   "cell_type": "markdown",
   "id": "f1342c0a",
   "metadata": {
    "id": "f1342c0a"
   },
   "source": [
    "# Model Building"
   ]
  },
  {
   "cell_type": "raw",
   "id": "4be59c22",
   "metadata": {
    "id": "4be59c22"
   },
   "source": [
    "Now that we have considerable understanding of our dataset, we can now build our machine learning model knowledgeably.\n"
   ]
  },
  {
   "cell_type": "markdown",
   "id": "463045cb",
   "metadata": {
    "id": "463045cb"
   },
   "source": [
    "*However before we start developing our forecasting model, we could note that bitcoin price has fluctuated considerably between 2014 and 2022. Rising up to 15000 dollars and falling as far as 3000 dollars. Such massive fluctuation would negatively affect our model. To this end, it would be wiser to build our model using one year time-series data rathar than wholesome data.*"
   ]
  },
  {
   "cell_type": "code",
   "execution_count": null,
   "id": "fbfebd70",
   "metadata": {
    "id": "fbfebd70"
   },
   "outputs": [],
   "source": []
  },
  {
   "cell_type": "markdown",
   "id": "2KNoXtzCDWJU",
   "metadata": {
    "id": "2KNoXtzCDWJU"
   },
   "source": [
    "But first, lets take all closing data"
   ]
  },
  {
   "cell_type": "code",
   "execution_count": null,
   "id": "989ba2ec",
   "metadata": {
    "colab": {
     "base_uri": "https://localhost:8080/"
    },
    "id": "989ba2ec",
    "outputId": "11ddf430-35ea-4887-acbd-18e825d14a13"
   },
   "outputs": [],
   "source": [
    "closedf = maindf[['Date','Close']]\n",
    "print(\"Shape of close dataframe:\", closedf.shape)"
   ]
  },
  {
   "cell_type": "code",
   "execution_count": null,
   "id": "eba1c785",
   "metadata": {
    "colab": {
     "base_uri": "https://localhost:8080/"
    },
    "id": "eba1c785",
    "outputId": "5c361d92-2fa6-4225-fc21-74230d4a6c46"
   },
   "outputs": [],
   "source": [
    "fig = px.line(closedf, x=closedf.Date, y=closedf.Close,labels={'date':'Date','close':'Close Stock'})\n",
    "fig.update_traces(marker_line_width=2, opacity=0.8, marker_line_color='orange')\n",
    "fig.update_layout(title_text='Whole period of timeframe of Bitcoin close price 2014-2022', plot_bgcolor='white',\n",
    "                  font_size=15, font_color='black')\n",
    "fig.update_xaxes(showgrid=False)\n",
    "fig.update_yaxes(showgrid=False)\n",
    "fig.show()"
   ]
  },
  {
   "cell_type": "markdown",
   "id": "76cb28a7",
   "metadata": {
    "id": "76cb28a7"
   },
   "source": [
    "Okay, Based on our argument, we would slice one year for our model. Lets work with 2021"
   ]
  },
  {
   "cell_type": "code",
   "execution_count": null,
   "id": "49df20ef",
   "metadata": {
    "colab": {
     "base_uri": "https://localhost:8080/"
    },
    "id": "49df20ef",
    "outputId": "2a3f85da-e27e-49c8-d439-e326aaf258ec"
   },
   "outputs": [],
   "source": [
    "closedf = closedf[closedf['Date'] > '2021-02-19']\n",
    "close_stock = closedf.copy()\n",
    "print(\"Total data for prediction: \",closedf.shape[0])"
   ]
  },
  {
   "cell_type": "code",
   "execution_count": null,
   "id": "76ec8b96",
   "metadata": {
    "colab": {
     "base_uri": "https://localhost:8080/"
    },
    "id": "76ec8b96",
    "outputId": "bcdf48f3-d291-4f86-8f36-f758d1493750"
   },
   "outputs": [],
   "source": [
    "closedf"
   ]
  },
  {
   "cell_type": "code",
   "execution_count": null,
   "id": "59a9fcfd",
   "metadata": {
    "colab": {
     "base_uri": "https://localhost:8080/"
    },
    "id": "59a9fcfd",
    "outputId": "8bae2ac7-55d4-4f59-f552-e5d0ad5b2b21"
   },
   "outputs": [],
   "source": [
    "fig = px.line(closedf, x=closedf.Date, y=closedf.Close,labels={'date':'Date','close':'Close Stock'})\n",
    "fig.update_traces(marker_line_width=2, opacity=0.8, marker_line_color='orange')\n",
    "fig.update_layout(title_text='Considered period to predict Bitcoin close price',\n",
    "                  plot_bgcolor='white', font_size=15, font_color='black')\n",
    "fig.update_xaxes(showgrid=False)\n",
    "fig.update_yaxes(showgrid=False)\n",
    "fig.show()"
   ]
  },
  {
   "cell_type": "markdown",
   "id": "00762e8b",
   "metadata": {
    "id": "00762e8b"
   },
   "source": [
    "We now normalize our data...."
   ]
  },
  {
   "cell_type": "code",
   "execution_count": null,
   "id": "381b4db5",
   "metadata": {
    "colab": {
     "base_uri": "https://localhost:8080/"
    },
    "id": "381b4db5",
    "outputId": "570213c5-2ce2-4ddc-fb5d-8780626812e8"
   },
   "outputs": [],
   "source": [
    "# This line of code implements normalization using minmaxscaler technique\n",
    "del closedf['Date']\n",
    "scaler=MinMaxScaler(feature_range=(0,1))\n",
    "closedf=scaler.fit_transform(np.array(closedf).reshape(-1,1))\n",
    "print(closedf.shape)"
   ]
  },
  {
   "cell_type": "markdown",
   "id": "62bd3f8c",
   "metadata": {
    "id": "62bd3f8c"
   },
   "source": [
    "*Now lets divide our dataset into training and testing to mitigate overfitting...*"
   ]
  },
  {
   "cell_type": "code",
   "execution_count": null,
   "id": "70b6358a",
   "metadata": {
    "colab": {
     "base_uri": "https://localhost:8080/"
    },
    "id": "70b6358a",
    "outputId": "d07fc8cc-c2cd-4022-fc15-fb2fb4154a69"
   },
   "outputs": [],
   "source": [
    "# we keep the training set as 60% and 40% testing set\n",
    "training_size=int(len(closedf)*0.60)\n",
    "test_size=len(closedf)-training_size\n",
    "train_data,test_data=closedf[0:training_size,:],closedf[training_size:len(closedf),:1]\n",
    "print(\"train_data: \", train_data.shape)\n",
    "print(\"test_data: \", test_data.shape)"
   ]
  },
  {
   "cell_type": "markdown",
   "id": "7fa6701b",
   "metadata": {
    "id": "7fa6701b"
   },
   "source": [
    "We will need to transform our dataset to time-series format. For this analysis, we will use a time step of 20"
   ]
  },
  {
   "cell_type": "code",
   "execution_count": null,
   "id": "f1cdc688",
   "metadata": {
    "id": "f1cdc688"
   },
   "outputs": [],
   "source": [
    "# convert an array of values into a dataset matrix\n",
    "\n",
    "def create_dataset(dataset, time_step=1):\n",
    "    dataX, dataY = [], []\n",
    "    for i in range(len(dataset)-time_step-1):\n",
    "        a = dataset[i:(i+time_step), 0]\n",
    "        dataX.append(a)\n",
    "        dataY.append(dataset[i + time_step, 0])\n",
    "    return np.array(dataX), np.array(dataY)"
   ]
  },
  {
   "cell_type": "code",
   "execution_count": null,
   "id": "03b75c25",
   "metadata": {
    "colab": {
     "base_uri": "https://localhost:8080/"
    },
    "id": "03b75c25",
    "outputId": "3043bc16-0428-43a6-f9f9-0e736f4fdc37"
   },
   "outputs": [],
   "source": [
    "time_step = 20\n",
    "X_train, y_train = create_dataset(train_data, time_step)\n",
    "X_test, y_test = create_dataset(test_data, time_step)\n",
    "X_train =X_train.reshape(X_train.shape[0],X_train.shape[1] , 1)\n",
    "X_test = X_test.reshape(X_test.shape[0],X_test.shape[1] , 1)\n",
    "\n",
    "print(\"X_train: \", X_train.shape)\n",
    "print(\"y_train: \", y_train.shape)\n",
    "print(\"X_test: \", X_test.shape)\n",
    "print(\"y_test\", y_test.shape)"
   ]
  },
  {
   "cell_type": "code",
   "execution_count": null,
   "id": "d7bb5d82",
   "metadata": {
    "id": "d7bb5d82"
   },
   "outputs": [],
   "source": []
  },
  {
   "cell_type": "markdown",
   "id": "96445e41",
   "metadata": {
    "id": "96445e41"
   },
   "source": [
    "We will build using the LSTM model."
   ]
  },
  {
   "cell_type": "markdown",
   "id": "49e747bf",
   "metadata": {
    "id": "49e747bf"
   },
   "source": [
    "#### LSTM MODEL\n",
    "\n",
    "An LSTM (Long Short-Term Memory) model is a type of recurrent neural network (RNN) that is designed to handle long-term dependencies in sequential data. It is widely used in various applications such as natural language processing, speech recognition, and time series prediction.\n",
    "\n",
    "![](https://dezyre.gumlet.io/images/blog/lstm-model/The_Architecture_of_the_LSTM_Model.png?w=900&dpr=1.0)\n",
    "\n",
    "Unlike traditional RNNs, LSTM models incorporate memory cells that capture and store information over time. This allows them to retain important information from the past and make more accurate predictions based on long-term dependencies. The memory cells are controlled by gates that regulate the flow of information, making the LSTM model capable of selectively remembering or forgetting information."
   ]
  },
  {
   "cell_type": "code",
   "execution_count": null,
   "id": "d384ed50",
   "metadata": {
    "colab": {
     "background_save": true,
     "base_uri": "https://localhost:8080/"
    },
    "id": "d384ed50",
    "outputId": "8977c29a-4497-45e8-e7e1-8bf13f4adeb3"
   },
   "outputs": [],
   "source": [
    "model=Sequential()\n",
    "model.add(LSTM(10,input_shape=(None,1),activation=\"relu\"))\n",
    "model.add(Dense(1))\n",
    "model.compile(loss=\"mean_squared_error\",optimizer=\"adam\")\n",
    "history = model.fit(X_train,y_train,validation_data=(X_test,y_test),epochs=200,batch_size=32,verbose=1)"
   ]
  },
  {
   "cell_type": "code",
   "execution_count": null,
   "id": "fa024ef2",
   "metadata": {
    "colab": {
     "background_save": true
    },
    "id": "fa024ef2"
   },
   "outputs": [],
   "source": []
  },
  {
   "cell_type": "markdown",
   "id": "1d94a8f3",
   "metadata": {
    "id": "1d94a8f3"
   },
   "source": [
    "Lets have a look at some loss and validation plots"
   ]
  },
  {
   "cell_type": "code",
   "execution_count": null,
   "id": "04f97ab5",
   "metadata": {
    "colab": {
     "background_save": true
    },
    "id": "04f97ab5",
    "outputId": "44caeae3-9d65-496e-a188-b61cbdad519a"
   },
   "outputs": [],
   "source": [
    "loss = history.history['loss']\n",
    "val_loss = history.history['val_loss']\n",
    "\n",
    "epochs = range(len(loss))\n",
    "\n",
    "plt.plot(epochs, loss, 'r', label='Training loss')\n",
    "plt.plot(epochs, val_loss, 'b', label='Validation loss')\n",
    "plt.title('Training and validation loss')\n",
    "plt.legend(loc=0)\n",
    "plt.figure()\n",
    "\n",
    "\n",
    "plt.show()"
   ]
  },
  {
   "cell_type": "markdown",
   "id": "8d33d98f",
   "metadata": {
    "id": "8d33d98f"
   },
   "source": [
    "*That looks good. Now, time for some predictions...*"
   ]
  },
  {
   "cell_type": "code",
   "execution_count": null,
   "id": "573fa012",
   "metadata": {
    "colab": {
     "background_save": true
    },
    "id": "573fa012",
    "outputId": "b6541113-7f0c-4444-9cf7-59bafc467c71"
   },
   "outputs": [],
   "source": [
    "train_predict=model.predict(X_train)\n",
    "test_predict=model.predict(X_test)\n",
    "train_predict.shape, test_predict.shape"
   ]
  },
  {
   "cell_type": "markdown",
   "id": "384cda11",
   "metadata": {
    "id": "384cda11"
   },
   "source": [
    "## Evaluation of Model Performance"
   ]
  },
  {
   "cell_type": "code",
   "execution_count": null,
   "id": "5b0f5c39",
   "metadata": {
    "colab": {
     "background_save": true
    },
    "id": "5b0f5c39",
    "outputId": "98c25d8e-4e33-419a-d305-6af65ce91a4a"
   },
   "outputs": [],
   "source": [
    "# Reverse transformation\n",
    "train_predict = scaler.inverse_transform(train_predict)\n",
    "test_predict = scaler.inverse_transform(test_predict)\n",
    "original_ytrain = scaler.inverse_transform(y_train.reshape(-1,1))\n",
    "original_ytest = scaler.inverse_transform(y_test.reshape(-1,1))\n",
    "\n",
    "#Computatoin of errors# Evaluation metrices RMSE and MAE\n",
    "print(\"Train data RMSE: \", math.sqrt(mean_squared_error(original_ytrain,train_predict)))\n",
    "print(\"Train data MSE: \", mean_squared_error(original_ytrain,train_predict))\n",
    "print(\"Train data MAE: \", mean_absolute_error(original_ytrain,train_predict))\n",
    "print(\"-------------------------------------------------------------------------------------\")\n",
    "print(\"Test data RMSE: \", math.sqrt(mean_squared_error(original_ytest,test_predict)))\n",
    "print(\"Test data MSE: \", mean_squared_error(original_ytest,test_predict))\n",
    "print(\"Test data MAE: \", mean_absolute_error(original_ytest,test_predict))\n",
    "\n",
    "print(\"Train data R2 score:\", r2_score(original_ytrain, train_predict))\n",
    "print(\"Test data R2 score:\", r2_score(original_ytest, test_predict))\n",
    "\n",
    "print(\"Train data explained variance regression score:\",\n",
    "      explained_variance_score(original_ytrain, train_predict))\n",
    "print(\"Test data explained variance regression score:\",\n",
    "      explained_variance_score(original_ytest, test_predict))\n",
    "\n"
   ]
  },
  {
   "cell_type": "code",
   "execution_count": null,
   "id": "064c691d",
   "metadata": {
    "colab": {
     "background_save": true
    },
    "id": "064c691d"
   },
   "outputs": [],
   "source": []
  },
  {
   "cell_type": "markdown",
   "id": "cf1648c4",
   "metadata": {
    "id": "cf1648c4"
   },
   "source": [
    "# Comparision of original stock close price and predicted close price"
   ]
  },
  {
   "cell_type": "code",
   "execution_count": null,
   "id": "e3bd8ea6",
   "metadata": {
    "colab": {
     "background_save": true
    },
    "id": "e3bd8ea6",
    "outputId": "e7b6d8ce-2af5-4bad-84f9-75aa51f31fe0"
   },
   "outputs": [],
   "source": [
    "# shift train predictions for plotting\n",
    "\n",
    "look_back=time_step\n",
    "trainPredictPlot = np.empty_like(closedf)\n",
    "trainPredictPlot[:, :] = np.nan\n",
    "trainPredictPlot[look_back:len(train_predict)+look_back, :] = train_predict\n",
    "print(\"Train predicted data: \", trainPredictPlot.shape)\n",
    "\n",
    "# shift test predictions for plotting\n",
    "testPredictPlot = np.empty_like(closedf)\n",
    "testPredictPlot[:, :] = np.nan\n",
    "testPredictPlot[len(train_predict)+(look_back*2)+1:len(closedf)-1, :] = test_predict\n",
    "print(\"Test predicted data: \", testPredictPlot.shape)\n",
    "\n",
    "names = cycle(['Original close price','Train predicted close price','Test predicted close price'])\n",
    "\n",
    "\n",
    "plotdf = pd.DataFrame({'date': close_stock['Date'],\n",
    "                       'original_close': close_stock['Close'],\n",
    "                      'train_predicted_close': trainPredictPlot.reshape(1,-1)[0].tolist(),\n",
    "                      'test_predicted_close': testPredictPlot.reshape(1,-1)[0].tolist()})\n",
    "\n",
    "fig = px.line(plotdf,x=plotdf['date'], y=[plotdf['original_close'],plotdf['train_predicted_close'],\n",
    "                                          plotdf['test_predicted_close']],\n",
    "              labels={'value':'Stock price','date': 'Date'})\n",
    "fig.update_layout(title_text='Comparision between original close price vs predicted close price',\n",
    "                  plot_bgcolor='white', font_size=15, font_color='black', legend_title_text='Close Price')\n",
    "fig.for_each_trace(lambda t:  t.update(name = next(names)))\n",
    "\n",
    "fig.update_xaxes(showgrid=False)\n",
    "fig.update_yaxes(showgrid=False)\n",
    "fig.show()"
   ]
  },
  {
   "cell_type": "markdown",
   "id": "1ac7cfb8",
   "metadata": {
    "id": "1ac7cfb8"
   },
   "source": [
    "***Okay, why dont we try to make predictions for the next 30 days***"
   ]
  },
  {
   "cell_type": "code",
   "execution_count": null,
   "id": "84def822",
   "metadata": {
    "colab": {
     "background_save": true
    },
    "id": "84def822",
    "outputId": "dbea52ae-200c-4ac0-e594-120d0c8c6cf0"
   },
   "outputs": [],
   "source": [
    "x_input=test_data[len(test_data)-time_step:].reshape(1,-1)\n",
    "temp_input=list(x_input)\n",
    "temp_input=temp_input[0].tolist()\n",
    "\n",
    "from numpy import array\n",
    "\n",
    "lst_output=[]\n",
    "n_steps=time_step\n",
    "i=0\n",
    "pred_days = 30\n",
    "while(i<pred_days):\n",
    "\n",
    "    if(len(temp_input)>time_step):\n",
    "\n",
    "        x_input=np.array(temp_input[1:])\n",
    "        #print(\"{} day input {}\".format(i,x_input))\n",
    "        x_input = x_input.reshape(1,-1)\n",
    "        x_input = x_input.reshape((1, n_steps, 1))\n",
    "\n",
    "        yhat = model.predict(x_input, verbose=0)\n",
    "        #print(\"{} day output {}\".format(i,yhat))\n",
    "        temp_input.extend(yhat[0].tolist())\n",
    "        temp_input=temp_input[1:]\n",
    "        #print(temp_input)\n",
    "\n",
    "        lst_output.extend(yhat.tolist())\n",
    "        i=i+1\n",
    "\n",
    "    else:\n",
    "\n",
    "        x_input = x_input.reshape((1, n_steps,1))\n",
    "        yhat = model.predict(x_input, verbose=0)\n",
    "        temp_input.extend(yhat[0].tolist())\n",
    "\n",
    "        lst_output.extend(yhat.tolist())\n",
    "        i=i+1\n",
    "\n",
    "print(\"Output of predicted next days: \", len(lst_output))"
   ]
  },
  {
   "cell_type": "markdown",
   "id": "9b39e846",
   "metadata": {
    "id": "9b39e846"
   },
   "source": [
    "***QUite a lot of numbers. May make more sense pictorially***"
   ]
  },
  {
   "cell_type": "code",
   "execution_count": null,
   "id": "645dbce7",
   "metadata": {
    "colab": {
     "background_save": true
    },
    "id": "645dbce7",
    "outputId": "6a5a391e-926e-4e3a-9171-fefce7a5c6b1"
   },
   "outputs": [],
   "source": [
    "last_days=np.arange(1,time_step+1)\n",
    "day_pred=np.arange(time_step+1,time_step+pred_days+1)\n",
    "print(last_days)\n",
    "print(day_pred)"
   ]
  },
  {
   "cell_type": "code",
   "execution_count": null,
   "id": "bc9452d1",
   "metadata": {
    "colab": {
     "background_save": true
    },
    "id": "bc9452d1",
    "outputId": "b69e652f-09e3-44c5-ee69-da329b0a02ce"
   },
   "outputs": [],
   "source": [
    "temp_mat = np.empty((len(last_days)+pred_days+1,1))\n",
    "temp_mat[:] = np.nan\n",
    "temp_mat = temp_mat.reshape(1,-1).tolist()[0]\n",
    "\n",
    "last_original_days_value = temp_mat\n",
    "next_predicted_days_value = temp_mat\n",
    "\n",
    "last_original_days_value[0:time_step+1] = scaler.inverse_transform(closedf[len(closedf)-time_step:]).reshape(1,-1).tolist()[0]\n",
    "next_predicted_days_value[time_step+1:] = scaler.inverse_transform(np.array(lst_output).reshape(-1,1)).reshape(1,-1).tolist()[0]\n",
    "\n",
    "new_pred_plot = pd.DataFrame({\n",
    "    'last_original_days_value':last_original_days_value,\n",
    "    'next_predicted_days_value':next_predicted_days_value\n",
    "})\n",
    "\n",
    "names = cycle(['Last 15 days close price','Predicted next 30 days close price'])\n",
    "\n",
    "fig = px.line(new_pred_plot,x=new_pred_plot.index, y=[new_pred_plot['last_original_days_value'],\n",
    "                                                      new_pred_plot['next_predicted_days_value']],\n",
    "              labels={'value': 'Stock price','index': 'Timestamp'})\n",
    "fig.update_layout(title_text='Compare last 15 days vs next 30 days',\n",
    "                  plot_bgcolor='white', font_size=15, font_color='black',legend_title_text='Close Price')\n",
    "\n",
    "fig.for_each_trace(lambda t:  t.update(name = next(names)))\n",
    "fig.update_xaxes(showgrid=False)\n",
    "fig.update_yaxes(showgrid=False)\n",
    "fig.show()\n",
    "\n"
   ]
  },
  {
   "cell_type": "markdown",
   "id": "6801046a",
   "metadata": {
    "id": "6801046a"
   },
   "source": [
    "##### Great. How does our prediction look like with the closing stock price and predictions joined together?"
   ]
  },
  {
   "cell_type": "code",
   "execution_count": null,
   "id": "97120b14",
   "metadata": {
    "colab": {
     "background_save": true
    },
    "id": "97120b14",
    "outputId": "2c5f5529-5af0-40cc-f1fc-70984705668f"
   },
   "outputs": [],
   "source": [
    "lstmdf=closedf.tolist()\n",
    "lstmdf.extend((np.array(lst_output).reshape(-1,1)).tolist())\n",
    "lstmdf=scaler.inverse_transform(lstmdf).reshape(1,-1).tolist()[0]\n",
    "\n",
    "names = cycle(['Close price'])\n",
    "\n",
    "fig = px.line(lstmdf,labels={'value': 'Stock price','index': 'Timestamp'})\n",
    "fig.update_layout(title_text='Plotting whole closing stock price with prediction',\n",
    "                  plot_bgcolor='white', font_size=15, font_color='black',legend_title_text='Stock')\n",
    "\n",
    "fig.for_each_trace(lambda t:  t.update(name = next(names)))\n",
    "\n",
    "fig.update_xaxes(showgrid=False)\n",
    "fig.update_yaxes(showgrid=False)\n",
    "fig.show()"
   ]
  },
  {
   "cell_type": "markdown",
   "id": "8d430e96",
   "metadata": {
    "id": "8d430e96"
   },
   "source": [
    "#### Well, It looks like we have a fairly good model.\n",
    "##### N/B Real life crypto-currency signatures are more volatile. So, employ model with caution!!!\n",
    "\n",
    "![](https://as2.ftcdn.net/v2/jpg/00/95/28/15/1000_F_95281528_1f0kYMFUIZZ3bgLGIxkdKuLet2M5us0l.jpg)"
   ]
  },
  {
   "cell_type": "code",
   "execution_count": null,
   "id": "af9c5b5d",
   "metadata": {
    "colab": {
     "background_save": true
    },
    "id": "af9c5b5d"
   },
   "outputs": [],
   "source": []
  }
 ],
 "metadata": {
  "colab": {
   "provenance": []
  },
  "kernelspec": {
   "display_name": "Python 3 (ipykernel)",
   "language": "python",
   "name": "python3"
  },
  "language_info": {
   "codemirror_mode": {
    "name": "ipython",
    "version": 3
   },
   "file_extension": ".py",
   "mimetype": "text/x-python",
   "name": "python",
   "nbconvert_exporter": "python",
   "pygments_lexer": "ipython3",
   "version": "3.9.12"
  },
  "papermill": {
   "default_parameters": {},
   "duration": 115.091236,
   "end_time": "2022-06-01T03:23:20.705853",
   "environment_variables": {},
   "exception": null,
   "input_path": "__notebook__.ipynb",
   "output_path": "__notebook__.ipynb",
   "parameters": {},
   "start_time": "2022-06-01T03:21:25.614617",
   "version": "2.3.3"
  }
 },
 "nbformat": 4,
 "nbformat_minor": 5
}
